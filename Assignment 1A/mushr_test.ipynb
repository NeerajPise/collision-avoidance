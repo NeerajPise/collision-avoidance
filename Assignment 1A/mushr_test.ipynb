{
 "cells": [
  {
   "cell_type": "code",
   "execution_count": 1,
   "id": "c1044f73-b66e-4b09-b4fd-f8b585fe3b0a",
   "metadata": {},
   "outputs": [
    {
     "name": "stderr",
     "output_type": "stream",
     "text": [
      "/opt/homebrew/Caskroom/miniforge/base/envs/cs590/lib/python3.9/site-packages/scipy/__init__.py:146: UserWarning: A NumPy version >=1.16.5 and <1.23.0 is required for this version of SciPy (detected version 1.24.1\n",
      "  warnings.warn(f\"A NumPy version >={np_minversion} and <{np_maxversion}\"\n"
     ]
    }
   ],
   "source": [
    "import mujoco as mj\n",
    "from mujoco.glfw import glfw\n",
    "import numpy as np\n",
    "import math\n",
    "from callbacks import *\n",
    "from scipy.spatial.transform import Rotation as R"
   ]
  },
  {
   "cell_type": "code",
   "execution_count": 2,
   "id": "52080801-6892-4cde-ad69-d72f2ba77629",
   "metadata": {},
   "outputs": [],
   "source": [
    "xml_path = 'models/mushr.xml' #xml file (assumes this is in the same folder as this file)\n",
    "view = \"third\"\n",
    "assert view in [\"first\",\"third\"]\n",
    "simend = 600\n",
    "\n",
    "# MuJoCo data structures\n",
    "model = mj.MjModel.from_xml_path(xml_path)  # MuJoCo model\n",
    "data  = mj.MjData(model)                    # MuJoCo data\n",
    "cam   = mj.MjvCamera()                        # Abstract camera\n",
    "opt   = mj.MjvOption()                        # visualization options"
   ]
  },
  {
   "cell_type": "code",
   "execution_count": 3,
   "id": "eb4a2533-0ca1-4412-94be-beb60610ee86",
   "metadata": {
    "tags": []
   },
   "outputs": [],
   "source": [
    "# Init GLFW, create window, make OpenGL context current, request v-sync\n",
    "glfw.init()\n",
    "window = glfw.create_window(800, 600, \"Demo\", None, None)\n",
    "glfw.make_context_current(window)\n",
    "glfw.swap_interval(1)\n",
    "\n",
    "# initialize visualization data structures\n",
    "mj.mjv_defaultCamera(cam)\n",
    "mj.mjv_defaultOption(opt)\n",
    "scene = mj.MjvScene(model, maxgeom=10000)\n",
    "context = mj.MjrContext(model, mj.mjtFontScale.mjFONTSCALE_150.value)\n",
    "\n",
    "cb = Callbacks(model,data,cam,scene)\n",
    "\n",
    "# install GLFW mouse and keyboard callbacks\n",
    "glfw.set_key_callback(window, cb.keyboard)\n",
    "glfw.set_cursor_pos_callback(window, cb.mouse_move)\n",
    "glfw.set_mouse_button_callback(window, cb.mouse_button)\n",
    "glfw.set_scroll_callback(window, cb.scroll)\n",
    "\n",
    "# Example on how to set camera configuration\n",
    "cam.azimuth = -90 ; cam.elevation = -45 ; cam.distance =  13\n",
    "cam.lookat =np.array([ 0.0 , 0.0 , 0.0 ])"
   ]
  },
  {
   "cell_type": "code",
   "execution_count": 4,
   "id": "4cf22af8-6cba-429a-8c6e-05de7d6b8c0f",
   "metadata": {},
   "outputs": [],
   "source": [
    "class Controller:\n",
    "    def __init__(self,model,data):\n",
    "        # Initialize the controller here.\n",
    "        pass\n",
    "    \n",
    "    def controller(self,model,data):\n",
    "        data.ctrl[0] = 0.25\n",
    "        data.ctrl[1] = 2.0\n",
    "\n",
    "c = Controller(model,data)\n",
    "mj.set_mjcb_control(c.controller)"
   ]
  },
  {
   "cell_type": "code",
   "execution_count": 5,
   "id": "a648b645-9e22-42b8-8d6e-f98ee2df91c0",
   "metadata": {},
   "outputs": [],
   "source": [
    "trajectory = []\n",
    "trajectory2 = []\n",
    "\n",
    "#Naive function to check collision\n",
    "def in_collision(data):\n",
    "    \n",
    "    # Get the COM of the car to implement center-distance based collision detection\n",
    "    totalmass = 0\n",
    "    center_x = 0\n",
    "    center_y = 0\n",
    "    center_z = 0\n",
    "\n",
    "    # Skip 0 because it's the World Body and final because it's the human site\n",
    "    for i in range(1, len(data.xpos)-1):\n",
    "        totalmass += model.body_mass[i]\n",
    "        center_x += data.xpos[i][0]*model.body_mass[i]\n",
    "        center_y += data.xpos[i][1]*model.body_mass[i]\n",
    "        center_z += data.xpos[i][2]*model.body_mass[i]\n",
    "\n",
    "    center_x /= totalmass\n",
    "    center_y /= totalmass\n",
    "    center_z /= totalmass\n",
    "    \n",
    "    #Let Point 1 and 2 be the center of the car body and human site respectively\n",
    "    point1 = [center_x, center_y, center_z]\n",
    "    point2 = data.site_xpos[1]\n",
    "    \n",
    "    #Return the euclidean distance between the two centers\n",
    "    #(only x and y, no z difference needed since human is a cylinder)\n",
    "    return math.sqrt((point2[0] - point1[0])**2 + (point2[1] - point1[1])**2)\n",
    "\n",
    "#Flag to be switched on collision\n",
    "break_flag = 1\n",
    "\n",
    "#Threshold for distance between centers to break simulation\n",
    "threshold = 0.45\n",
    "\n",
    "while break_flag and not glfw.window_should_close(window):\n",
    "    time_prev = data.time\n",
    "\n",
    "    while (data.time - time_prev < 1.0/60.0):\n",
    "        mj.mj_step(model,data)\n",
    "        \n",
    "        status = in_collision(data)\n",
    "        \n",
    "        if status < threshold:\n",
    "            break_flag = 0\n",
    "        \n",
    "        trajectory.append(np.copy(data.qpos))\n",
    "        trajectory2.append(np.copy(data.site_xpos[1]))\n",
    "        \n",
    "        if view == \"first\":\n",
    "            cam.lookat[0] = data.site_xpos[1][0]\n",
    "            cam.lookat[1] = data.site_xpos[1][1]\n",
    "            cam.lookat[2] = data.site_xpos[1][2] + 0.5\n",
    "            cam.elevation = 0.0\n",
    "            cam.distance = 1.0\n",
    "    \n",
    "    if data.time >= simend:\n",
    "        break\n",
    "\n",
    "    # ==================================================================================\n",
    "    # The below code updates the visualization -- do not modify it!\n",
    "    # ==================================================================================\n",
    "    # get framebuffer viewport\n",
    "    viewport_width, viewport_height = glfw.get_framebuffer_size(window)\n",
    "    viewport = mj.MjrRect(0, 0, viewport_width, viewport_height)\n",
    "\n",
    "    # Update scene and render\n",
    "    mj.mjv_updateScene(model, data, opt, None, cam, mj.mjtCatBit.mjCAT_ALL.value, scene)\n",
    "    mj.mjr_render(viewport, scene, context)\n",
    "\n",
    "    # swap OpenGL buffers (blocking call due to v-sync)\n",
    "    glfw.swap_buffers(window)\n",
    "\n",
    "    # process pending GUI events, call GLFW callbacks\n",
    "    glfw.poll_events()\n",
    "    \n",
    "\n",
    "glfw.terminate()"
   ]
  },
  {
   "cell_type": "code",
   "execution_count": 6,
   "id": "f917d67c-7723-4bc6-9add-164d4924fd49",
   "metadata": {},
   "outputs": [
    {
     "data": {
      "image/png": "[encoded data removed]",
      "text/plain": [
       "<Figure size 800x800 with 1 Axes>"
      ]
     },
     "metadata": {},
     "output_type": "display_data"
    }
   ],
   "source": [
    "import matplotlib.pyplot as plt\n",
    "# You need the below line only if you're using this inside a Jupyter notebook.\n",
    "%matplotlib inline\n",
    "\n",
    "trajectory = np.array(trajectory)\n",
    "trajectory2 = np.array(trajectory2)\n",
    "\n",
    "plt.figure(figsize=(8,8))\n",
    "plt.xlim(-10,10)\n",
    "plt.ylim(-10,10)\n",
    "plt.plot(trajectory[:,0],trajectory[:,1],color='black')\n",
    "plt.plot(trajectory2[:,0],trajectory2[:,1],color='red')\n",
    "plt.scatter(trajectory[0,0],trajectory[0,1],marker='o', c='blue',label='Start')\n",
    "plt.scatter(trajectory[-1,0],trajectory[-1,1],marker='x',c='green', label='End')\n",
    "plt.scatter(trajectory2[0,0],trajectory2[0,1],marker='o', c='blue',)\n",
    "plt.scatter(trajectory2[-1,0],trajectory2[-1,1],marker='x', c='green',)\n",
    "plt.legend(loc='best')\n",
    "plt.show()"
   ]
  }
 ],
 "metadata": {
  "kernelspec": {
   "display_name": "Python 3 (ipykernel)",
   "language": "python",
   "name": "python3"
  },
  "language_info": {
   "codemirror_mode": {
    "name": "ipython",
    "version": 3
   },
   "file_extension": ".py",
   "mimetype": "text/x-python",
   "name": "python",
   "nbconvert_exporter": "python",
   "pygments_lexer": "ipython3",
   "version": "3.9.15"
  }
 },
 "nbformat": 4,
 "nbformat_minor": 5
}
